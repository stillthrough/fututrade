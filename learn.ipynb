{
 "metadata": {
  "language_info": {
   "codemirror_mode": {
    "name": "ipython",
    "version": 3
   },
   "file_extension": ".py",
   "mimetype": "text/x-python",
   "name": "python",
   "nbconvert_exporter": "python",
   "pygments_lexer": "ipython3",
   "version": "3.7.6-final"
  },
  "orig_nbformat": 2,
  "kernelspec": {
   "name": "python3",
   "display_name": "Python 3.7.6 64-bit (conda)",
   "metadata": {
    "interpreter": {
     "hash": "b3ba2566441a7c06988d0923437866b63cedc61552a5af99d1f4fb67d367b25f"
    }
   }
  }
 },
 "nbformat": 4,
 "nbformat_minor": 2,
 "cells": [
  {
   "cell_type": "code",
   "execution_count": 16,
   "metadata": {},
   "outputs": [],
   "source": [
    "import pandas as pd\n",
    "import futu as ft\n",
    "from futu import *"
   ]
  },
  {
   "cell_type": "code",
   "execution_count": null,
   "metadata": {},
   "outputs": [],
   "source": [
    "quote_obj = ft.OpenQuoteContext(host = '127.0.0.1', port = 11111)\n",
    "quote_obj.start()"
   ]
  },
  {
   "cell_type": "code",
   "execution_count": 2,
   "metadata": {},
   "outputs": [],
   "source": [
    "market = ft.Market.US"
   ]
  },
  {
   "cell_type": "code",
   "execution_count": 12,
   "metadata": {},
   "outputs": [
    {
     "output_type": "stream",
     "name": "stderr",
     "text": [
      "2021-03-06 23:58:10,272 [open_context_base.py] _socket_reconnect_and_wait_ready:255: Start connecting: host=127.0.0.1; port=11111;\n",
      "2021-03-06 23:58:10,275 [open_context_base.py] on_connected:344: Connected : conn_id=5; \n",
      "2021-03-06 23:58:10,282 [open_context_base.py] _handle_init_connect:445: InitConnect ok: conn_id=5; info={'server_version': 500, 'login_user_id': 70216308, 'conn_id': 6774191408936964749, 'conn_key': 'BA16FE50E492F0EF', 'conn_iv': '6F059B62673BE880', 'keep_alive_interval': 10, 'is_encrypt': False};\n"
     ]
    }
   ],
   "source": [
    "trade_obj = ft.OpenUSTradeContext(host = '127.0.0.1', port = 11111\n",
    "                                , is_encrypt = None\n",
    "                                , security_firm = SecurityFirm.FUTUINC )"
   ]
  },
  {
   "cell_type": "code",
   "execution_count": 13,
   "metadata": {},
   "outputs": [
    {
     "output_type": "execute_result",
     "data": {
      "text/plain": [
       "(-1, '没有解锁交易，请先解锁交易')"
      ]
     },
     "metadata": {},
     "execution_count": 13
    }
   ],
   "source": [
    "trade_obj.accinfo_query(trd_env = ft.TrdEnv.REAL)"
   ]
  },
  {
   "cell_type": "code",
   "execution_count": 15,
   "metadata": {},
   "outputs": [
    {
     "output_type": "stream",
     "name": "stderr",
     "text": [
      "2021-03-07 17:43:37,312 [network_manager.py] work:366: Close: conn_id=5\n"
     ]
    }
   ],
   "source": [
    "trade_obj.close()"
   ]
  }
 ]
}