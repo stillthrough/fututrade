{
 "metadata": {
  "language_info": {
   "codemirror_mode": {
    "name": "ipython",
    "version": 3
   },
   "file_extension": ".py",
   "mimetype": "text/x-python",
   "name": "python",
   "nbconvert_exporter": "python",
   "pygments_lexer": "ipython3",
   "version": "3.7.6-final"
  },
  "orig_nbformat": 2,
  "kernelspec": {
   "name": "python3",
   "display_name": "Python 3.7.6 64-bit (conda)",
   "metadata": {
    "interpreter": {
     "hash": "b3ba2566441a7c06988d0923437866b63cedc61552a5af99d1f4fb67d367b25f"
    }
   }
  }
 },
 "nbformat": 4,
 "nbformat_minor": 2,
 "cells": [
  {
   "cell_type": "code",
   "execution_count": 16,
   "metadata": {},
   "outputs": [],
   "source": [
    "import pandas as pd\n",
    "import futu as ft\n",
    "from futu import *\n",
    "import json\n",
    "import datetime as dt\n",
    "import numpy as np\n",
    "import getpass\n",
    "import openpyxl as op   \n",
    "\n",
    "\n",
    "def establish_connections(user_connection_type\n",
    "                        , unlock_trade = True\n",
    "                        , user_host = '127.0.0.1', user_port = 11111\n",
    "                        , user_is_encrypt = None\n",
    "                        , user_security_firm = SecurityFirm.FUTUINC):\n",
    "    '''\n",
    "    Ingest: Pass in connection criterias\n",
    "    Output: Initialized instance/object of either trade/quote\n",
    "    '''\n",
    "    \n",
    "    #Validate connection type\n",
    "    connection_type_choices = ['trade', 'quote']\n",
    "    assert user_connection_type in connection_type_choices, \\\n",
    "    f'connection type must be in {[choice for choice in connection_type_choices]}'\n",
    "\n",
    "    \n",
    "    try:\n",
    "        #Intialized trading API\n",
    "        if user_connection_type == 'trade':    \n",
    "            trader = ft.OpenUSTradeContext(host = user_host, port = user_port\n",
    "                                        , is_encrypt = user_is_encrypt\n",
    "                                        , security_firm = user_security_firm)\n",
    "    \n",
    "            #If user wants to unlock account, ask for password to unlock\n",
    "            if unlock_trade == True:\n",
    "                user_pass = getpass.getpass()\n",
    "                    #Log in first in order to pull account info\n",
    "                trader.unlock_trade(password = user_pass, is_unlock = True)\n",
    "\n",
    "            return trader\n",
    "\n",
    "        #Initialize quote API\n",
    "        elif user_connection_type == 'quote':\n",
    "            quoter = ft.OpenQuoteContext(host = user_host, port = user_port\n",
    "                                        , is_encrypt = user_is_encrypt)\n",
    "            return quoter\n",
    "        \n",
    "    except Exception as e:\n",
    "        raise e\n",
    "\n",
    "def get_account_id(instance, account_type = 'live'\n",
    "                    , acc_index = None):\n",
    "\n",
    "    '''\n",
    "    Ingest: Pass in initiallized instance of trade context\n",
    "    Output: Accounts ids that fall under input account_type\n",
    "    '''\n",
    "\n",
    "    #Ensure account_type inputs are right\n",
    "    account_type_dict = {'live': 'REAL'\n",
    "                        ,'paper': 'SIMULATE'}\n",
    "    assert account_type in account_type_dict.keys(), \\\n",
    "    f'account_type needs be in {(account for account in account_type_dict.keys())}'\n",
    "\n",
    "    #Returning a tuple and [1] is the dataframe\n",
    "    accounts_df = instance.get_acc_list()[1]\n",
    "\n",
    "    #Get account ids matching account_type criteria\n",
    "    account_id_outputs = []\n",
    "    for row in accounts_df.itertuples():\n",
    "        if row.trd_env == account_type_dict.get(account_type):\n",
    "            account_id_outputs.append(row.acc_id)\n",
    "\n",
    "    if len(account_id_outputs) > 1:\n",
    "        return account_id_outputs[acc_index]\n",
    "    elif len(account_id_outputs)  == 1:\n",
    "        return account_id_outputs[0]\n",
    "\n",
    "\n",
    "\n",
    "def get_account_balance(instance):\n",
    "\n",
    "    #Log in first in order to pull account info\n",
    "    instance.unlock_trade(password = getpass.getpass()\n",
    "                                    , is_unlock = True)\n",
    "\n",
    "    #Pull account info and store all numbers in a dictionary\n",
    "    all_balance = instance.accinfo_query(trd_env = TrdEnv.REAL\n",
    "                    , acc_id = get_account_id(instance), refresh_cache = False\n",
    "                    , currency = ft.Currency.USD)[1]\n",
    "\n",
    "    all_balance_dict = dict(zip(all_balance.columns, all_balance.values[0]))\n",
    "\n",
    "    return all_balance_dict\n",
    "\n",
    "def get_historical_trades (instance, trade_acc_id\n",
    "                        , trade_period = 'today'\n",
    "                        , trade_code = '', trade_start = '', trade_end = '' \n",
    "                        , trade_mode = TrdEnv.REAL\n",
    "                        , acc_index = 0):\n",
    "\n",
    "    #If no start date provided, default to a week ago to reduce data load\n",
    "    if trade_period == 'today':\n",
    "        trades_df = instance.deal_list_query(\n",
    "                    code = trade_code, trd_env = trade_mode, acc_id = trade_acc_id\n",
    "                    , acc_index = 0, refresh_cache = False)[1]\n",
    "\n",
    "    \n",
    "    elif trade_period == 'historical':    \n",
    "        if not trade_start:\n",
    "            trade_start = (dt.datetime.today() - dt.timedelta(days = 7)).strftime('%Y-%m-%d')\n",
    "\n",
    "        #Assigning variable to df of trade transaction\n",
    "        trades_df = instance.history_deal_list_query(\n",
    "                            code = trade_code, start = trade_start, end = trade_end\n",
    "                            , trd_env = trade_mode, acc_id = trade_acc_id\n",
    "                            , acc_index = 0)[1]\n",
    "    else:\n",
    "        raise ValueError(f'{trade_period} is not an accpetable option')\n",
    "    \n",
    "    '''Format dataframe prior to exporting\n",
    "    1) Get rid of unnecesary  columns and rename them for easier understanding\n",
    "    '''    \n",
    "    # 1.1 - Drop counter_broker information as not needed\n",
    "    trades_df = trades_df.drop(columns = ['counter_broker_id', 'counter_broker_name'])\n",
    "    # 1.2 - Assign new column names that are easier to understand\n",
    "    new_col_names = ['ticker', 'name', 'deal_id', 'order_id', 'size', 'price'                         , 'direction','trade_time', 'trade_status']\n",
    "    trades_df.columns = new_col_names\n",
    "\n",
    "\n",
    "    #2.1 - Format columns into approriate formats\n",
    "    trades_df = trades_df.astype({\n",
    "                                'ticker': str, 'name': str\n",
    "                                , 'deal_id': str, 'order_id': str\n",
    "                                , 'size': float, 'price': float\n",
    "                                , 'direction': str, 'trade_status': str\n",
    "                                    })\n",
    "    trades_df['trade_time'] = trades_df['trade_time'].values.astype('datetime64[s]')\n",
    "                                \n",
    "    # 3.1 - Add columns for future analytical needs\n",
    "    trades_df['ticker'] = trades_df['ticker'].apply(lambda x: x.replace('US.',''))\n",
    "    trades_df['amount'] = trades_df.apply(lambda x: \n",
    "                        -1 * (x['size'] * x['price']) if x['direction'] == 'BUY'\n",
    "                        else x['size'] * x['price'], axis = 1)\n",
    "    trades_df['trade_date'] = trades_df['trade_time'].dt.date       \n",
    "    trades_df['trade_hour'] = trades_df['trade_time'].dt.hour.astype('int64') \n",
    "    trades_df['trade_minute'] = trades_df['trade_time'].dt.minute.astype('int64')\n",
    "\n",
    "    trades_df = trades_df.sort_values(by = 'trade_time', ascending = True)\n",
    "\n",
    "    return trades_df\n",
    "\n",
    "\n",
    "def add_to_db (target_df, file_path = None\n",
    "                , destination_sheet = 'Main'):\n",
    "    '''\n",
    "    Write or append trade history to db Excel workbook\n",
    "    '''\n",
    "    #Make sure the folder for the excel file existsa\n",
    "    file_path = r\"C:\\Users\\Weili\\Desktop\\FutuHistory\\Futu_Transactions.xlsx\"\\\n",
    "                                            if not file_path else file_path\n",
    "    folder_name = os.path.dirname(file_path)\n",
    "    \n",
    "\n",
    "    if not os.path.exists(folder_name):\n",
    "        os.mkdir(folder_name)\n",
    "\n",
    "    try:\n",
    "        #Ensure file currently exists\n",
    "        if os.path.isfile(file_path):\n",
    "            matrix_adj = {'row': 1, 'column': 1}\n",
    "            current_matrix = pd.read_excel(file_path, sheet_name = destination_sheet\n",
    "                                            , header = 0).shape\n",
    "            #If file exist but no record, then start on first row and include header\n",
    "            #If has records, then get max row number and +1 to get starting row\n",
    "            if current_matrix[0] == 0:\n",
    "                start_row, include_header = 0, True\n",
    "            else:\n",
    "                start_row = current_matrix[0] + matrix_adj.get('row')\n",
    "\n",
    "            with pd.ExcelWriter(file_path, engine = 'openpyxl', mode = 'a') as writer:\n",
    "                writer.sheets = {ws.title : ws for ws in writer.book.worksheets}\n",
    "                target_df.to_excel(writer, sheet_name = destination_sheet\n",
    "                                , index = False, header = False\n",
    "                                , startrow = start_row)\n",
    "        else:\n",
    "            target_df.to_excel(file_path, index = False, sheet_name = destination_sheet)\n",
    "\n",
    "    except (Exception, BaseException) as e:\n",
    "        raise e\n"
   ]
  },
  {
   "cell_type": "code",
   "execution_count": null,
   "metadata": {},
   "outputs": [],
   "source": [
    "trader.close()"
   ]
  },
  {
   "cell_type": "code",
   "execution_count": 6,
   "metadata": {},
   "outputs": [
    {
     "output_type": "stream",
     "name": "stderr",
     "text": [
      "2021-03-16 22:32:50,441 [open_context_base.py] _socket_reconnect_and_wait_ready:255: Start connecting: host=127.0.0.1; port=11111;\n",
      "2021-03-16 22:32:50,446 [open_context_base.py] on_connected:344: Connected : conn_id=2; \n",
      "2021-03-16 22:32:50,452 [open_context_base.py] _handle_init_connect:445: InitConnect ok: conn_id=2; info={'server_version': 500, 'login_user_id': 70216308, 'conn_id': 6777778713975463163, 'conn_key': '390FDC3AF892BCAE', 'conn_iv': '74EE446F9EDDE577', 'keep_alive_interval': 10, 'is_encrypt': False};\n"
     ]
    }
   ],
   "source": [
    "trader = establish_connections(user_connection_type = 'trade', unlock_trade = True)\n",
    "act_id = get_account_id(trader)"
   ]
  },
  {
   "cell_type": "code",
   "execution_count": 17,
   "metadata": {},
   "outputs": [],
   "source": [
    "all_trades = get_historical_trades(instance = trader, trade_acc_id = act_id\n",
    "                                , trade_period = 'historical'\n",
    "                                , trade_start = '2021-01-01')"
   ]
  },
  {
   "cell_type": "code",
   "execution_count": 18,
   "metadata": {},
   "outputs": [],
   "source": [
    "add_to_db(all_trades)"
   ]
  },
  {
   "cell_type": "code",
   "execution_count": 17,
   "metadata": {},
   "outputs": [
    {
     "output_type": "execute_result",
     "data": {
      "text/plain": [
       "'2021-03-07'"
      ]
     },
     "metadata": {},
     "execution_count": 17
    }
   ],
   "source": [
    "(dt.datetime.today() - dt.timedelta(days = 7)).strftime('%Y-%m-%d')"
   ]
  },
  {
   "cell_type": "code",
   "execution_count": 62,
   "metadata": {},
   "outputs": [],
   "source": [
    "jh = get_historical_trades(instance = trader, trade_acc_id = get_account_id(trader)\n",
    "                            , trade_period = 'historical', trade_start = '2021-03-12')"
   ]
  },
  {
   "cell_type": "code",
   "execution_count": 7,
   "metadata": {},
   "outputs": [
    {
     "output_type": "execute_result",
     "data": {
      "text/plain": [
       "(0,\n",
       " Empty DataFrame\n",
       " Columns: [code, stock_name, deal_id, order_id, qty, price, trd_side, create_time, counter_broker_id, counter_broker_name, status]\n",
       " Index: [])"
      ]
     },
     "metadata": {},
     "execution_count": 7
    }
   ],
   "source": [
    "# "
   ]
  },
  {
   "cell_type": "code",
   "execution_count": 178,
   "metadata": {},
   "outputs": [
    {
     "output_type": "error",
     "ename": "AttributeError",
     "evalue": "'DataFrame' object has no attribute 'sort'",
     "traceback": [
      "\u001b[1;31m---------------------------------------------------------------------------\u001b[0m",
      "\u001b[1;31mAttributeError\u001b[0m                            Traceback (most recent call last)",
      "\u001b[1;32m<ipython-input-178-a81f603e1175>\u001b[0m in \u001b[0;36m<module>\u001b[1;34m\u001b[0m\n\u001b[1;32m----> 1\u001b[1;33m \u001b[0mjh\u001b[0m\u001b[1;33m.\u001b[0m\u001b[0msort\u001b[0m\u001b[1;33m(\u001b[0m\u001b[0mby\u001b[0m \u001b[1;33m=\u001b[0m \u001b[0mjh\u001b[0m\u001b[1;33m[\u001b[0m\u001b[1;34m'trade_time'\u001b[0m\u001b[1;33m]\u001b[0m\u001b[1;33m)\u001b[0m\u001b[1;33m.\u001b[0m\u001b[0mhead\u001b[0m\u001b[1;33m(\u001b[0m\u001b[1;36m5\u001b[0m\u001b[1;33m)\u001b[0m\u001b[1;33m\u001b[0m\u001b[1;33m\u001b[0m\u001b[0m\n\u001b[0m",
      "\u001b[1;32mC:\\ProgramData\\Anaconda3\\lib\\site-packages\\pandas\\core\\generic.py\u001b[0m in \u001b[0;36m__getattr__\u001b[1;34m(self, name)\u001b[0m\n\u001b[0;32m   5272\u001b[0m             \u001b[1;32mif\u001b[0m \u001b[0mself\u001b[0m\u001b[1;33m.\u001b[0m\u001b[0m_info_axis\u001b[0m\u001b[1;33m.\u001b[0m\u001b[0m_can_hold_identifiers_and_holds_name\u001b[0m\u001b[1;33m(\u001b[0m\u001b[0mname\u001b[0m\u001b[1;33m)\u001b[0m\u001b[1;33m:\u001b[0m\u001b[1;33m\u001b[0m\u001b[1;33m\u001b[0m\u001b[0m\n\u001b[0;32m   5273\u001b[0m                 \u001b[1;32mreturn\u001b[0m \u001b[0mself\u001b[0m\u001b[1;33m[\u001b[0m\u001b[0mname\u001b[0m\u001b[1;33m]\u001b[0m\u001b[1;33m\u001b[0m\u001b[1;33m\u001b[0m\u001b[0m\n\u001b[1;32m-> 5274\u001b[1;33m             \u001b[1;32mreturn\u001b[0m \u001b[0mobject\u001b[0m\u001b[1;33m.\u001b[0m\u001b[0m__getattribute__\u001b[0m\u001b[1;33m(\u001b[0m\u001b[0mself\u001b[0m\u001b[1;33m,\u001b[0m \u001b[0mname\u001b[0m\u001b[1;33m)\u001b[0m\u001b[1;33m\u001b[0m\u001b[1;33m\u001b[0m\u001b[0m\n\u001b[0m\u001b[0;32m   5275\u001b[0m \u001b[1;33m\u001b[0m\u001b[0m\n\u001b[0;32m   5276\u001b[0m     \u001b[1;32mdef\u001b[0m \u001b[0m__setattr__\u001b[0m\u001b[1;33m(\u001b[0m\u001b[0mself\u001b[0m\u001b[1;33m,\u001b[0m \u001b[0mname\u001b[0m\u001b[1;33m:\u001b[0m \u001b[0mstr\u001b[0m\u001b[1;33m,\u001b[0m \u001b[0mvalue\u001b[0m\u001b[1;33m)\u001b[0m \u001b[1;33m->\u001b[0m \u001b[1;32mNone\u001b[0m\u001b[1;33m:\u001b[0m\u001b[1;33m\u001b[0m\u001b[1;33m\u001b[0m\u001b[0m\n",
      "\u001b[1;31mAttributeError\u001b[0m: 'DataFrame' object has no attribute 'sort'"
     ]
    }
   ],
   "source": [
    " jh.sort_y( \n",
    "    by = jh['trade_time']).head(5)a"
   ]
  },
  {
   "cell_type": "code",
   "execution_count": 175,
   "metadata": {},
   "outputs": [],
   "source": [
    "gb = r\"C:\\Users\\Weili\\Desktop\\FutuHistory\\Futu_Transactions.xlsx\"\n",
    "jh.to_excel(gb, index = False)"
   ]
  },
  {
   "cell_type": "code",
   "execution_count": 40,
   "metadata": {},
   "outputs": [
    {
     "output_type": "stream",
     "name": "stdout",
     "text": [
      "power 0    142692.98\nName: power, dtype: float64\n"
     ]
    }
   ],
   "source": [
    "for header, values in account_balance.iteritems():\n",
    "    print(header, values)\n",
    "    break"
   ]
  },
  {
   "cell_type": "code",
   "execution_count": 59,
   "metadata": {},
   "outputs": [
    {
     "output_type": "execute_result",
     "data": {
      "text/plain": [
       "(0,\n",
       "                acc_id   trd_env acc_type          card_num security_firm  \\\n",
       " 0  283445310207781492      REAL   MARGIN  1007100510202800       FUTUINC   \n",
       " 1               27057  SIMULATE     CASH                             N/A   \n",
       " 2              105009  SIMULATE     CASH                             N/A   \n",
       " \n",
       "   sim_acc_type  \n",
       " 0          N/A  \n",
       " 1        STOCK  \n",
       " 2       OPTION  )"
      ]
     },
     "metadata": {},
     "execution_count": 59
    }
   ],
   "source": [
    "trader.get_acc_list("
   ]
  },
  {
   "cell_type": "code",
   "execution_count": 11,
   "metadata": {},
   "outputs": [
    {
     "output_type": "execute_result",
     "data": {
      "text/plain": [
       "list"
      ]
     },
     "metadata": {},
     "execution_count": 11
    }
   ],
   "source": [
    "#trader.history_deal_list_query(code = '', start = '2021-03-11', end = '' \n",
    "#                         , trd_env = TrdEnv.REAL, acc_id = act_id\n",
    "#                         , acc_index = 0)\n",
    "# trader.deal_list_query(code = '', trd_env = TrdEnv.REAL, acc_id = act_id\n",
    "#                         , acc_index = 0, refresh_cache = False)\n",
    "\n"
   ]
  }
 ]
}